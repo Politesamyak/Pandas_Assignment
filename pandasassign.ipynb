{
 "cells": [
  {
   "cell_type": "code",
   "execution_count": 8,
   "id": "596414d8-bd52-48d4-b7df-2f7cf476bfc1",
   "metadata": {},
   "outputs": [],
   "source": [
    "import pandas as pd"
   ]
  },
  {
   "cell_type": "code",
   "execution_count": 9,
   "id": "e20c5bd9-9de5-4945-9cdc-90932d5dc03a",
   "metadata": {},
   "outputs": [],
   "source": [
    "df =  [4,8,15,16,23,42]"
   ]
  },
  {
   "cell_type": "code",
   "execution_count": 10,
   "id": "9afa7813-87b6-4ed1-b46c-7ee830032040",
   "metadata": {},
   "outputs": [
    {
     "data": {
      "text/plain": [
       "[4, 8, 15, 16, 23, 42]"
      ]
     },
     "execution_count": 10,
     "metadata": {},
     "output_type": "execute_result"
    }
   ],
   "source": [
    "df"
   ]
  },
  {
   "cell_type": "code",
   "execution_count": 11,
   "id": "a11c2941-b582-4b22-bc29-28774ccea6d8",
   "metadata": {},
   "outputs": [],
   "source": [
    "l = [1,2,3,4,5,6,7,8,9,10]"
   ]
  },
  {
   "cell_type": "code",
   "execution_count": 12,
   "id": "758af798-a9bb-4071-81bb-f4274ab9aa0f",
   "metadata": {},
   "outputs": [],
   "source": [
    "s1 = pd.Series(l)"
   ]
  },
  {
   "cell_type": "code",
   "execution_count": 13,
   "id": "3b0f8e5d-6c6d-45f0-9f1d-5664e45dd72a",
   "metadata": {},
   "outputs": [
    {
     "data": {
      "text/plain": [
       "0     1\n",
       "1     2\n",
       "2     3\n",
       "3     4\n",
       "4     5\n",
       "5     6\n",
       "6     7\n",
       "7     8\n",
       "8     9\n",
       "9    10\n",
       "dtype: int64"
      ]
     },
     "execution_count": 13,
     "metadata": {},
     "output_type": "execute_result"
    }
   ],
   "source": [
    "s1"
   ]
  },
  {
   "cell_type": "code",
   "execution_count": 20,
   "id": "53388793-d3e4-4fd1-8255-4db42dde1cb7",
   "metadata": {},
   "outputs": [],
   "source": [
    "data = {\"Name\" :[\"Alice\" , \"Bob\" , \"Claire\"],\n",
    "        \"Age\" :[25,30,27],\n",
    "        \"Gender\" :[\"Female\" , \"Male\" , \"Female\"]}\n",
    "df= pd.DataFrame(data,index=[1,2,3])"
   ]
  },
  {
   "cell_type": "code",
   "execution_count": 21,
   "id": "c5bbd294-6120-45a1-a322-610c9e355ae9",
   "metadata": {},
   "outputs": [
    {
     "data": {
      "text/html": [
       "<div>\n",
       "<style scoped>\n",
       "    .dataframe tbody tr th:only-of-type {\n",
       "        vertical-align: middle;\n",
       "    }\n",
       "\n",
       "    .dataframe tbody tr th {\n",
       "        vertical-align: top;\n",
       "    }\n",
       "\n",
       "    .dataframe thead th {\n",
       "        text-align: right;\n",
       "    }\n",
       "</style>\n",
       "<table border=\"1\" class=\"dataframe\">\n",
       "  <thead>\n",
       "    <tr style=\"text-align: right;\">\n",
       "      <th></th>\n",
       "      <th>Name</th>\n",
       "      <th>Age</th>\n",
       "      <th>Gender</th>\n",
       "    </tr>\n",
       "  </thead>\n",
       "  <tbody>\n",
       "    <tr>\n",
       "      <th>1</th>\n",
       "      <td>Alice</td>\n",
       "      <td>25</td>\n",
       "      <td>Female</td>\n",
       "    </tr>\n",
       "    <tr>\n",
       "      <th>2</th>\n",
       "      <td>Bob</td>\n",
       "      <td>30</td>\n",
       "      <td>Male</td>\n",
       "    </tr>\n",
       "    <tr>\n",
       "      <th>3</th>\n",
       "      <td>Claire</td>\n",
       "      <td>27</td>\n",
       "      <td>Female</td>\n",
       "    </tr>\n",
       "  </tbody>\n",
       "</table>\n",
       "</div>"
      ],
      "text/plain": [
       "     Name  Age  Gender\n",
       "1   Alice   25  Female\n",
       "2     Bob   30    Male\n",
       "3  Claire   27  Female"
      ]
     },
     "execution_count": 21,
     "metadata": {},
     "output_type": "execute_result"
    }
   ],
   "source": [
    "df"
   ]
  },
  {
   "cell_type": "code",
   "execution_count": 17,
   "id": "42a9828b-aa96-408d-bcda-f0a4c70a0dd9",
   "metadata": {},
   "outputs": [],
   "source": [
    "#Q4. What is ‘DataFrame’ in pandas and how is it different from pandas.series? Explain with an example."
   ]
  },
  {
   "cell_type": "code",
   "execution_count": 22,
   "id": "65fda9ed-928e-440f-a34a-76f6831e0ff0",
   "metadata": {},
   "outputs": [],
   "source": [
    "# Answer :In DataFrame is a 2 -Dimensional datastructure  which contains hetrogenous values in other words can have \n",
    "# different datatypes.\n",
    " # whereas in pandas.series is a one dimensional datastructure which contains homogenous values in other words can have same \n",
    "    #datatypes."
   ]
  },
  {
   "cell_type": "code",
   "execution_count": 25,
   "id": "10c69afc-c8d3-47e3-ac0b-61e02c904305",
   "metadata": {},
   "outputs": [
    {
     "data": {
      "text/plain": [
       "0    1\n",
       "1    2\n",
       "2    3\n",
       "3    4\n",
       "dtype: int64"
      ]
     },
     "execution_count": 25,
     "metadata": {},
     "output_type": "execute_result"
    }
   ],
   "source": [
    "#for example\n",
    "Sam = [1,2,3,4]\n",
    "Sam = pd.Series(Sam)\n",
    "Sam"
   ]
  },
  {
   "cell_type": "code",
   "execution_count": 27,
   "id": "7ca8a0f7-f1d3-467c-9998-e0b62a402230",
   "metadata": {},
   "outputs": [],
   "source": [
    "#for example of dataframe\n",
    "data = {\"ID\": [1,2,3,4],\n",
    "        \"Name\" :[\"Sam\", \"Man\",\"jan\",\"fam\"]}\n",
    "fn = pd.DataFrame(data,index=[1,2,3,4])\n",
    "\n"
   ]
  },
  {
   "cell_type": "code",
   "execution_count": 28,
   "id": "76262522-8c28-4581-b7df-28883f439c9f",
   "metadata": {},
   "outputs": [
    {
     "data": {
      "text/html": [
       "<div>\n",
       "<style scoped>\n",
       "    .dataframe tbody tr th:only-of-type {\n",
       "        vertical-align: middle;\n",
       "    }\n",
       "\n",
       "    .dataframe tbody tr th {\n",
       "        vertical-align: top;\n",
       "    }\n",
       "\n",
       "    .dataframe thead th {\n",
       "        text-align: right;\n",
       "    }\n",
       "</style>\n",
       "<table border=\"1\" class=\"dataframe\">\n",
       "  <thead>\n",
       "    <tr style=\"text-align: right;\">\n",
       "      <th></th>\n",
       "      <th>ID</th>\n",
       "      <th>Name</th>\n",
       "    </tr>\n",
       "  </thead>\n",
       "  <tbody>\n",
       "    <tr>\n",
       "      <th>1</th>\n",
       "      <td>1</td>\n",
       "      <td>Sam</td>\n",
       "    </tr>\n",
       "    <tr>\n",
       "      <th>2</th>\n",
       "      <td>2</td>\n",
       "      <td>Man</td>\n",
       "    </tr>\n",
       "    <tr>\n",
       "      <th>3</th>\n",
       "      <td>3</td>\n",
       "      <td>jan</td>\n",
       "    </tr>\n",
       "    <tr>\n",
       "      <th>4</th>\n",
       "      <td>4</td>\n",
       "      <td>fam</td>\n",
       "    </tr>\n",
       "  </tbody>\n",
       "</table>\n",
       "</div>"
      ],
      "text/plain": [
       "   ID Name\n",
       "1   1  Sam\n",
       "2   2  Man\n",
       "3   3  jan\n",
       "4   4  fam"
      ]
     },
     "execution_count": 28,
     "metadata": {},
     "output_type": "execute_result"
    }
   ],
   "source": [
    "fn"
   ]
  },
  {
   "cell_type": "code",
   "execution_count": 29,
   "id": "327d0737-e464-4d1d-8ac6-57b04e6bf213",
   "metadata": {},
   "outputs": [
    {
     "data": {
      "text/html": [
       "<div>\n",
       "<style scoped>\n",
       "    .dataframe tbody tr th:only-of-type {\n",
       "        vertical-align: middle;\n",
       "    }\n",
       "\n",
       "    .dataframe tbody tr th {\n",
       "        vertical-align: top;\n",
       "    }\n",
       "\n",
       "    .dataframe thead th {\n",
       "        text-align: right;\n",
       "    }\n",
       "</style>\n",
       "<table border=\"1\" class=\"dataframe\">\n",
       "  <thead>\n",
       "    <tr style=\"text-align: right;\">\n",
       "      <th></th>\n",
       "      <th>ID</th>\n",
       "      <th>Name</th>\n",
       "    </tr>\n",
       "  </thead>\n",
       "  <tbody>\n",
       "    <tr>\n",
       "      <th>1</th>\n",
       "      <td>1</td>\n",
       "      <td>Sam</td>\n",
       "    </tr>\n",
       "    <tr>\n",
       "      <th>2</th>\n",
       "      <td>2</td>\n",
       "      <td>Man</td>\n",
       "    </tr>\n",
       "    <tr>\n",
       "      <th>3</th>\n",
       "      <td>3</td>\n",
       "      <td>jan</td>\n",
       "    </tr>\n",
       "    <tr>\n",
       "      <th>4</th>\n",
       "      <td>4</td>\n",
       "      <td>fam</td>\n",
       "    </tr>\n",
       "  </tbody>\n",
       "</table>\n",
       "</div>"
      ],
      "text/plain": [
       "   ID Name\n",
       "1   1  Sam\n",
       "2   2  Man\n",
       "3   3  jan\n",
       "4   4  fam"
      ]
     },
     "execution_count": 29,
     "metadata": {},
     "output_type": "execute_result"
    }
   ],
   "source": [
    "# Q5. What are some common functions you can use to manipulate data in a Pandas DataFrame? Can\n",
    "# you give an example of when you might use one of these functions?\n",
    "\n",
    "#There are various funtions in pandas to manipulate the data.Some common are given below:-\n",
    "#Sort\n",
    "#sort_search\n",
    "#sort_values\n",
    "#sort_index\n",
    "#words_count\n",
    "#len\n",
    "#mean\n",
    "#median\n",
    "#mode\n",
    "#std\n",
    "#var\n",
    "fn\n"
   ]
  },
  {
   "cell_type": "code",
   "execution_count": 30,
   "id": "c965f821-163c-42a2-9bc7-b39df765c059",
   "metadata": {},
   "outputs": [
    {
     "data": {
      "text/plain": [
       "2.5"
      ]
     },
     "execution_count": 30,
     "metadata": {},
     "output_type": "execute_result"
    }
   ],
   "source": [
    "fn['ID'].mean()"
   ]
  },
  {
   "cell_type": "code",
   "execution_count": 31,
   "id": "85e57678-c6f2-49ad-ad48-ef2c01352c6e",
   "metadata": {},
   "outputs": [],
   "source": [
    "# Q6. Which of the following is mutable in nature Series, DataFrame, Panel?\n",
    "\n",
    "# Answer: In Pandas, Series and DataFrame are mutable objects, which means that their values can be modified after creation. However, Panel is considered an immutable object, meaning that its values cannot be changed once it has been created."
   ]
  },
  {
   "cell_type": "code",
   "execution_count": 32,
   "id": "2cd08b1f-164a-4625-8649-d2c262a77f06",
   "metadata": {},
   "outputs": [
    {
     "name": "stdout",
     "output_type": "stream",
     "text": [
      "      Name  Age  Gender\n",
      "0    Alice   25  female\n",
      "1      Bob   30    male\n",
      "2  Charlie   35    male\n"
     ]
    }
   ],
   "source": [
    "# Q7. Create a DataFrame using multiple Series. Explain with an example.\n",
    "import pandas as pd\n",
    "names = pd.Series(['Alice', 'Bob', 'Charlie'])\n",
    "ages = pd.Series([25, 30, 35])\n",
    "genders = pd.Series(['female', 'male', 'male'])\n",
    "df = pd.DataFrame({'Name': names, 'Age': ages, 'Gender': genders})\n",
    "print(df)"
   ]
  },
  {
   "cell_type": "code",
   "execution_count": null,
   "id": "166fc7fb-2714-49e6-a1b8-52b5b2181f20",
   "metadata": {},
   "outputs": [],
   "source": []
  }
 ],
 "metadata": {
  "kernelspec": {
   "display_name": "Python 3 (ipykernel)",
   "language": "python",
   "name": "python3"
  },
  "language_info": {
   "codemirror_mode": {
    "name": "ipython",
    "version": 3
   },
   "file_extension": ".py",
   "mimetype": "text/x-python",
   "name": "python",
   "nbconvert_exporter": "python",
   "pygments_lexer": "ipython3",
   "version": "3.10.8"
  }
 },
 "nbformat": 4,
 "nbformat_minor": 5
}
